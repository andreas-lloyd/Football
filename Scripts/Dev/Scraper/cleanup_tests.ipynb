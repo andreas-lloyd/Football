{
 "cells": [
  {
   "cell_type": "code",
   "execution_count": 17,
   "metadata": {},
   "outputs": [],
   "source": [
    "import subprocess\n",
    "from pathlib import Path\n",
    "from datetime import timedelta\n",
    "\n",
    "def copy_files(loc, data_name, bucket_name, date_yesterday):\n",
    "    \"\"\"\n",
    "    Small wrapper to just abstract some repetitive processes\n",
    "    Not sure if should add in a part to zip up the jsons - maybe not really necessary\n",
    "    \"\"\"\n",
    "    # First build up the locations\n",
    "    local_path = log_loc / date_yesterday.strftime('%Y/%m/%d')\n",
    "    bucket_path = Path(str(log_loc).replace(data_name, bucket_name)) / date_yesterday.strftime('%Y/%m/%d')\n",
    "    \n",
    "    # Check that the file we are working with exists, and copy over whole directory\n",
    "    if local_path.exists():\n",
    "        command = 'mkdir -p {} && cp -r {}/. {}'.format(bucket_path, local_path, bucket_path)\n",
    "        subprocess.run(command, shell = True)\n",
    "    else:\n",
    "        print('Path not found')\n",
    "\n",
    "def move_files(date_today, data_name, bucket_name, log_loc = None, story_loc = None, zip_stories = False):\n",
    "    \"\"\"\n",
    "    A wrapper to move (COPY) some files from local data branch to google cloud branch\n",
    "    Doing it like this because saving directly is just too slow\n",
    "    The first thing to move are logs, which do not take up a lot of space\n",
    "    Secondly will think about zipping and moving stories too\n",
    "    Note that will save stuff from yesterday (if exists)\n",
    "    \"\"\"\n",
    "    date_yesterday = date_today - timedelta(days = 1)\n",
    "\n",
    "    if log_loc:\n",
    "        copy_files(log_loc, data_name, bucket_name, date_yesterday)\n",
    "\n",
    "    if story_loc:\n",
    "        copy_files(log_loc, data_name, bucket_name, date_yesterday)"
   ]
  },
  {
   "cell_type": "markdown",
   "metadata": {},
   "source": [
    "Can't do what did before because trying to copy the contents of a file into another location - not copy the whole directory structure as we did before\n",
    "\n",
    "Need to include a mkdir"
   ]
  },
  {
   "cell_type": "code",
   "execution_count": 19,
   "metadata": {},
   "outputs": [],
   "source": [
    "import datetime\n",
    "date_today = datetime.datetime.today()\n",
    "\n",
    "HOME_PATH = Path('/home/andreas/Desktop/Projects/Football')\n",
    "data_name = 'Data'\n",
    "bucket_name = 'Cloud-data'\n",
    "\n",
    "data_loc = HOME_PATH / data_name\n",
    "story_loc = data_loc / 'Stories'\n",
    "log_loc = data_loc / 'Logs'\n",
    "\n",
    "move_files(date_today, data_name, bucket_name, log_loc)"
   ]
  }
 ],
 "metadata": {
  "kernelspec": {
   "display_name": "Python 3",
   "language": "python",
   "name": "python3"
  },
  "language_info": {
   "codemirror_mode": {
    "name": "ipython",
    "version": 3
   },
   "file_extension": ".py",
   "mimetype": "text/x-python",
   "name": "python",
   "nbconvert_exporter": "python",
   "pygments_lexer": "ipython3",
   "version": "3.6.4"
  }
 },
 "nbformat": 4,
 "nbformat_minor": 2
}
