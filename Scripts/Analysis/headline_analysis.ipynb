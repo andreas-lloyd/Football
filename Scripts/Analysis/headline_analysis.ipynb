{
 "cells": [
  {
   "cell_type": "markdown",
   "metadata": {},
   "source": [
    "# Headline analysis\n",
    "This script will pull some of the headlines that have been saved until now to have a brief look and inform about what to do with them.\n",
    "\n",
    "Some of the basic things to look at are:\n",
    "\n",
    "* Find the most common words\n",
    "    \n",
    "* Find the most important words\n",
    "    \n",
    "* Wordclouds for the different sources\n",
    "    \n",
    "* How we can automate generation of some of the training data\n",
    "\n",
    "For other scripts / still to look at:\n",
    "\n",
    "* Reducing articles\n",
    "\n",
    "* Looking at the article summaries and other metadata"
   ]
  },
  {
   "cell_type": "code",
   "execution_count": null,
   "metadata": {},
   "outputs": [],
   "source": [
    "# Libraries\n",
    "import pickle, os\n",
    "\n",
    "# Set the path and proxy in accordance with our OS\n",
    "if sys.platform == 'linux':\n",
    "    HOME_PATH = '/home/andreas/Desktop/Projects/Football/'\n",
    "else:\n",
    "    HOME_PATH = 'c:/Users/amathewl/Desktop/03_Personal_projects/football/'\n",
    "    \n",
    "# Relative paths\n",
    "story_loc = HOME_PATH + 'Data/02_Stories/'"
   ]
  },
  {
   "cell_type": "markdown",
   "metadata": {},
   "source": [
    "## Loading stories\n",
    "\n",
    "Block to load in the saved stories from pickles"
   ]
  },
  {
   "cell_type": "code",
   "execution_count": null,
   "metadata": {},
   "outputs": [],
   "source": [
    "headlines = []\n",
    "for domain in os.listdir(story_loc):\n",
    "    domain_loc = story_loc + domain + '/'\n",
    "    for dates in os.listdir(domain_loc):\n",
    "        date_loc = domain_loc + dates + '/'\n",
    "        for pickle_file in os.listdir(date_loc):\n",
    "            with open(date_loc + pickle_file, 'rb') as story_file:\n",
    "                story = pickle.load(story_file)\n",
    "                headlines.append(story['article_title'])"
   ]
  }
 ],
 "metadata": {
  "kernelspec": {
   "display_name": "Python 3",
   "language": "python",
   "name": "python3"
  },
  "language_info": {
   "codemirror_mode": {
    "name": "ipython",
    "version": 3
   },
   "file_extension": ".py",
   "mimetype": "text/x-python",
   "name": "python",
   "nbconvert_exporter": "python",
   "pygments_lexer": "ipython3",
   "version": "3.6.4"
  }
 },
 "nbformat": 4,
 "nbformat_minor": 2
}
